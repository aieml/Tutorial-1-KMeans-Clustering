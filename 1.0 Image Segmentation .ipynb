{
 "cells": [
  {
   "cell_type": "markdown",
   "metadata": {},
   "source": [
    "### In this tuorial, a practical usage of KMeans Clustering is discussed. We can use KMeans Clustering for Image Segmentation tasks. In other word, using KMeans Clustering we can identify different segments present in an image. See the example"
   ]
  },
  {
   "cell_type": "code",
   "execution_count": 45,
   "metadata": {},
   "outputs": [],
   "source": [
    "import cv2\n",
    "img=cv2.imread('bread.jpg')"
   ]
  },
  {
   "cell_type": "markdown",
   "metadata": {},
   "source": [
    "loading the bread.jpg int img"
   ]
  },
  {
   "cell_type": "code",
   "execution_count": 46,
   "metadata": {},
   "outputs": [
    {
     "name": "stdout",
     "output_type": "stream",
     "text": [
      "(687, 1025, 3)\n"
     ]
    }
   ],
   "source": [
    "(height,width)=img.shape[:2]\n",
    "print(img.shape)"
   ]
  },
  {
   "cell_type": "markdown",
   "metadata": {},
   "source": [
    "```img.shape``` have 3 dimension since it is a color image. Height,width and 3 colors (687,1025,3).\n",
    "\n",
    "343 and 512 will be loaded into height and width respectively"
   ]
  },
  {
   "cell_type": "code",
   "execution_count": 47,
   "metadata": {},
   "outputs": [],
   "source": [
    "img=cv2.resize(img,(int(width/2),int(height/2)))"
   ]
  },
  {
   "cell_type": "markdown",
   "metadata": {},
   "source": [
    "Image is resied into half from its original size"
   ]
  },
  {
   "cell_type": "code",
   "execution_count": 48,
   "metadata": {},
   "outputs": [],
   "source": [
    "(height,width)=img.shape[:2]"
   ]
  },
  {
   "cell_type": "markdown",
   "metadata": {},
   "source": [
    "Taking the new height and width into ```height,width```"
   ]
  },
  {
   "cell_type": "code",
   "execution_count": 49,
   "metadata": {},
   "outputs": [],
   "source": [
    "flat_array=img.reshape((height*width,3))"
   ]
  },
  {
   "cell_type": "markdown",
   "metadata": {},
   "source": [
    "Image is is flatten into a 2D array. Originally the dimensions of the image was (height,width,3), now it is reshaped to (height x width,3). In other words we have flatten the image into a 2D array. ```flat_array``` can be considered as a 2D array which has height x width number of rows and 3 columns. Therefore each row represents a pixel in a image and 3 columns represent B,G,R components of each pixel. "
   ]
  },
  {
   "cell_type": "code",
   "execution_count": 50,
   "metadata": {},
   "outputs": [],
   "source": [
    "from sklearn.cluster import KMeans\n",
    "clsfr=KMeans(n_clusters=6)\n",
    "\n",
    "clsfr.fit(flat_array)\n",
    "labels=clsfr.labels_"
   ]
  },
  {
   "cell_type": "markdown",
   "metadata": {},
   "source": [
    "The ```flat_array``` will be categorized into 6 clusters using KMeans clustering which is an Unsupervised Machine Learning Algorithm. Here the ```flat_array``` is considered as an dataset. Which contains pixels as the image as data. There are 3 features in the dataset as R,G,B components of each pixel. Simply, it can be understood that the KMeans Algorithm will categorize all the pixels into 6 clusters.\n",
    "\n",
    "```labels``` will contain the labels returned for each and every pixel\n",
    "Note that the labels array will have the shape of (height x width), since labels contains the predicted clusters corresponding   to each and every pixel."
   ]
  },
  {
   "cell_type": "code",
   "execution_count": 51,
   "metadata": {},
   "outputs": [],
   "source": [
    "labels_2d=labels.reshape((height,width))"
   ]
  },
  {
   "cell_type": "markdown",
   "metadata": {},
   "source": [
    "```labels``` array has a shape of (height x width). It is reshaped into (height,width) and stored into ```labels_2d```.\n",
    "Note that ```labels_2d``` now has the dimensions of the original image."
   ]
  },
  {
   "cell_type": "code",
   "execution_count": 52,
   "metadata": {},
   "outputs": [],
   "source": [
    "for i in range(height):\n",
    "    for j in range(width):\n",
    "        \n",
    "        if(labels_2d[i][j]==0):\n",
    "            img[i][j]=[255,0,0]\n",
    "        elif(labels_2d[i][j]==1):\n",
    "            img[i][j]=[0,255,0]\n",
    "        elif(labels_2d[i][j]==2):\n",
    "            img[i][j]=[0,0,255]\n",
    "        elif(labels_2d[i][j]==3):\n",
    "            img[i][j]=[0,255,255]\n",
    "        elif(labels_2d[i][j]==4):\n",
    "            img[i][j]=[255,0,255]\n",
    "        elif(labels_2d[i][j]==5):\n",
    "            img[i][j]=[255,255,0]"
   ]
  },
  {
   "cell_type": "markdown",
   "metadata": {},
   "source": [
    "Using nested loops, labels of each pixel are checked by going throghout the image. And pixels are colored according to the corresponding cluster values. "
   ]
  },
  {
   "cell_type": "code",
   "execution_count": 54,
   "metadata": {},
   "outputs": [
    {
     "data": {
      "image/png": "[encoded data removed]",
      "text/plain": [
       "<Figure size 432x288 with 1 Axes>"
      ]
     },
     "metadata": {
      "needs_background": "light"
     },
     "output_type": "display_data"
    }
   ],
   "source": [
    "from matplotlib import pyplot as plt\n",
    "\n",
    "plt.imshow(img)\n",
    "plt.show()"
   ]
  },
  {
   "cell_type": "markdown",
   "metadata": {},
   "source": [
    "You can use different values for ```n_clusters``` in ```clsfr=KMeans(n_clusters=6)``` see the different segmentation results, and try to obtain the optimal result."
   ]
  },
  {
   "cell_type": "code",
   "execution_count": null,
   "metadata": {},
   "outputs": [],
   "source": []
  }
 ],
 "metadata": {
  "kernelspec": {
   "display_name": "Python 3",
   "language": "python",
   "name": "python3"
  },
  "language_info": {
   "codemirror_mode": {
    "name": "ipython",
    "version": 3
   },
   "file_extension": ".py",
   "mimetype": "text/x-python",
   "name": "python",
   "nbconvert_exporter": "python",
   "pygments_lexer": "ipython3",
   "version": "3.6.8"
  }
 },
 "nbformat": 4,
 "nbformat_minor": 2
}
